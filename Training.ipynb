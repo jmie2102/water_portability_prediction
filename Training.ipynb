{
 "cells": [
  {
   "cell_type": "code",
   "execution_count": 1,
   "id": "5bd8c0ed",
   "metadata": {},
   "outputs": [],
   "source": [
    "import pandas as pd\n",
    "from imblearn.over_sampling import SMOTE\n",
    "from sklearn.preprocessing import StandardScaler\n",
    "from sklearn.model_selection import train_test_split\n",
    "from sklearn.tree import DecisionTreeClassifier      \n",
    "from sklearn.ensemble import RandomForestClassifier\n",
    "from sklearn.neural_network import MLPClassifier\n",
    "from sklearn.ensemble import GradientBoostingClassifier\n",
    "from sklearn.metrics import confusion_matrix, accuracy_score,ConfusionMatrixDisplay\n",
    "import warnings\n",
    "\n",
    "warnings.filterwarnings('ignore')"
   ]
  },
  {
   "cell_type": "code",
   "execution_count": 2,
   "id": "8bae95c8",
   "metadata": {},
   "outputs": [],
   "source": [
    "xq=pd.read_csv(\"WQ_With_Outliers.csv\")\n",
    "y=pd.read_csv(\"Target_variable.csv\")\n",
    "xqn=pd.read_csv(\"WQ_Without_Outliers.csv\")\n",
    "xqr=pd.read_csv(\"WQ_Replaced_Outliers.csv\")"
   ]
  },
  {
   "cell_type": "code",
   "execution_count": 3,
   "id": "6ab07f1d",
   "metadata": {},
   "outputs": [],
   "source": [
    "xq.drop(columns='Unnamed: 0',inplace=True)\n",
    "xqn.drop(columns='Unnamed: 0',inplace=True)\n",
    "xqr.drop(columns='Unnamed: 0',inplace=True)\n",
    "y.drop(columns='Unnamed: 0',inplace=True)"
   ]
  },
  {
   "cell_type": "code",
   "execution_count": 4,
   "id": "396bbca7",
   "metadata": {},
   "outputs": [
    {
     "data": {
      "text/html": [
       "<div>\n",
       "<style scoped>\n",
       "    .dataframe tbody tr th:only-of-type {\n",
       "        vertical-align: middle;\n",
       "    }\n",
       "\n",
       "    .dataframe tbody tr th {\n",
       "        vertical-align: top;\n",
       "    }\n",
       "\n",
       "    .dataframe thead th {\n",
       "        text-align: right;\n",
       "    }\n",
       "</style>\n",
       "<table border=\"1\" class=\"dataframe\">\n",
       "  <thead>\n",
       "    <tr style=\"text-align: right;\">\n",
       "      <th></th>\n",
       "      <th>ph</th>\n",
       "      <th>Hardness</th>\n",
       "      <th>Solids</th>\n",
       "      <th>Chloramines</th>\n",
       "      <th>Sulfate</th>\n",
       "      <th>Conductivity</th>\n",
       "      <th>Organic_carbon</th>\n",
       "      <th>Trihalomethanes</th>\n",
       "      <th>Turbidity</th>\n",
       "      <th>Potability</th>\n",
       "    </tr>\n",
       "  </thead>\n",
       "  <tbody>\n",
       "    <tr>\n",
       "      <th>0</th>\n",
       "      <td>7.035456</td>\n",
       "      <td>204.890455</td>\n",
       "      <td>20791.318981</td>\n",
       "      <td>7.300212</td>\n",
       "      <td>368.516441</td>\n",
       "      <td>564.308654</td>\n",
       "      <td>10.379783</td>\n",
       "      <td>86.990970</td>\n",
       "      <td>2.963135</td>\n",
       "      <td>0</td>\n",
       "    </tr>\n",
       "    <tr>\n",
       "      <th>1</th>\n",
       "      <td>8.099124</td>\n",
       "      <td>224.236259</td>\n",
       "      <td>19909.541732</td>\n",
       "      <td>9.275884</td>\n",
       "      <td>333.389426</td>\n",
       "      <td>418.606213</td>\n",
       "      <td>16.868637</td>\n",
       "      <td>66.420093</td>\n",
       "      <td>3.055934</td>\n",
       "      <td>0</td>\n",
       "    </tr>\n",
       "    <tr>\n",
       "      <th>2</th>\n",
       "      <td>8.316766</td>\n",
       "      <td>214.373394</td>\n",
       "      <td>22018.417441</td>\n",
       "      <td>8.059332</td>\n",
       "      <td>356.886136</td>\n",
       "      <td>363.266516</td>\n",
       "      <td>18.436524</td>\n",
       "      <td>100.341674</td>\n",
       "      <td>4.628771</td>\n",
       "      <td>0</td>\n",
       "    </tr>\n",
       "    <tr>\n",
       "      <th>3</th>\n",
       "      <td>9.092223</td>\n",
       "      <td>181.101509</td>\n",
       "      <td>17978.986339</td>\n",
       "      <td>6.546600</td>\n",
       "      <td>310.135738</td>\n",
       "      <td>398.410813</td>\n",
       "      <td>11.558279</td>\n",
       "      <td>31.997993</td>\n",
       "      <td>4.075075</td>\n",
       "      <td>0</td>\n",
       "    </tr>\n",
       "    <tr>\n",
       "      <th>4</th>\n",
       "      <td>5.584087</td>\n",
       "      <td>188.313324</td>\n",
       "      <td>28748.687739</td>\n",
       "      <td>7.544869</td>\n",
       "      <td>326.678363</td>\n",
       "      <td>280.467916</td>\n",
       "      <td>8.399735</td>\n",
       "      <td>54.917862</td>\n",
       "      <td>2.559708</td>\n",
       "      <td>0</td>\n",
       "    </tr>\n",
       "  </tbody>\n",
       "</table>\n",
       "</div>"
      ],
      "text/plain": [
       "         ph    Hardness        Solids  Chloramines     Sulfate  Conductivity  \\\n",
       "0  7.035456  204.890455  20791.318981     7.300212  368.516441    564.308654   \n",
       "1  8.099124  224.236259  19909.541732     9.275884  333.389426    418.606213   \n",
       "2  8.316766  214.373394  22018.417441     8.059332  356.886136    363.266516   \n",
       "3  9.092223  181.101509  17978.986339     6.546600  310.135738    398.410813   \n",
       "4  5.584087  188.313324  28748.687739     7.544869  326.678363    280.467916   \n",
       "\n",
       "   Organic_carbon  Trihalomethanes  Turbidity  Potability  \n",
       "0       10.379783        86.990970   2.963135           0  \n",
       "1       16.868637        66.420093   3.055934           0  \n",
       "2       18.436524       100.341674   4.628771           0  \n",
       "3       11.558279        31.997993   4.075075           0  \n",
       "4        8.399735        54.917862   2.559708           0  "
      ]
     },
     "execution_count": 4,
     "metadata": {},
     "output_type": "execute_result"
    }
   ],
   "source": [
    "yqn=xqn.iloc[:,-1]\n",
    "xqn.head()"
   ]
  },
  {
   "cell_type": "code",
   "execution_count": 5,
   "id": "1db4b514",
   "metadata": {},
   "outputs": [],
   "source": [
    "xqn.drop(columns='Potability',inplace=True)"
   ]
  },
  {
   "cell_type": "code",
   "execution_count": 6,
   "id": "9e7aae3b",
   "metadata": {},
   "outputs": [],
   "source": [
    "smote=SMOTE(random_state=42)"
   ]
  },
  {
   "attachments": {},
   "cell_type": "markdown",
   "id": "60f44a49",
   "metadata": {},
   "source": [
    "# Traning With Outliers"
   ]
  },
  {
   "cell_type": "code",
   "execution_count": 7,
   "id": "9771cee3",
   "metadata": {},
   "outputs": [],
   "source": [
    "x_train,x_test,y_train,y_test=train_test_split(xq,y,test_size=0.2,random_state=42)"
   ]
  },
  {
   "cell_type": "code",
   "execution_count": 8,
   "id": "beb3463b",
   "metadata": {},
   "outputs": [],
   "source": [
    "x_train,y_train=smote.fit_resample(x_train,y_train)"
   ]
  },
  {
   "cell_type": "code",
   "execution_count": 9,
   "id": "a1890ac0",
   "metadata": {},
   "outputs": [],
   "source": [
    "scaler=StandardScaler()\n",
    "x_train=scaler.fit_transform(x_train)\n",
    "x_test=scaler.transform(x_test)"
   ]
  },
  {
   "attachments": {},
   "cell_type": "markdown",
   "id": "86a1fe33",
   "metadata": {},
   "source": [
    "## Decision Tree"
   ]
  },
  {
   "cell_type": "code",
   "execution_count": 10,
   "id": "f97800a9",
   "metadata": {},
   "outputs": [],
   "source": [
    "clf = DecisionTreeClassifier(criterion=\"entropy\",max_depth=20)"
   ]
  },
  {
   "cell_type": "code",
   "execution_count": 11,
   "id": "e7f63847",
   "metadata": {},
   "outputs": [],
   "source": [
    "clf = clf.fit(x_train,y_train)"
   ]
  },
  {
   "cell_type": "code",
   "execution_count": 12,
   "id": "7538b8bb",
   "metadata": {},
   "outputs": [],
   "source": [
    "y_pred = clf.predict(x_test)"
   ]
  },
  {
   "cell_type": "code",
   "execution_count": 13,
   "id": "86393fed",
   "metadata": {},
   "outputs": [
    {
     "name": "stdout",
     "output_type": "stream",
     "text": [
      "Accuracy: 0.7317073170731707\n"
     ]
    }
   ],
   "source": [
    "print(\"Accuracy:\",accuracy_score(y_test, y_pred))"
   ]
  },
  {
   "cell_type": "code",
   "execution_count": 14,
   "id": "8fcaf8f6",
   "metadata": {},
   "outputs": [
    {
     "data": {
      "text/plain": [
       "<sklearn.metrics._plot.confusion_matrix.ConfusionMatrixDisplay at 0x1f25e296f50>"
      ]
     },
     "execution_count": 14,
     "metadata": {},
     "output_type": "execute_result"
    },
    {
     "data": {
      "image/png": "[encoded data removed]",
      "text/plain": [
       "<Figure size 432x288 with 2 Axes>"
      ]
     },
     "metadata": {
      "needs_background": "light"
     },
     "output_type": "display_data"
    }
   ],
   "source": [
    "cnf_matrix = confusion_matrix(y_test, y_pred) \n",
    "ConfusionMatrixDisplay(cnf_matrix).plot()"
   ]
  },
  {
   "attachments": {},
   "cell_type": "markdown",
   "id": "5a7446a8",
   "metadata": {},
   "source": [
    "## Random Forest"
   ]
  },
  {
   "cell_type": "code",
   "execution_count": 15,
   "id": "7fbb6712",
   "metadata": {},
   "outputs": [],
   "source": [
    "rf = RandomForestClassifier(n_estimators = 80,criterion=\"entropy\",random_state = 42)"
   ]
  },
  {
   "cell_type": "code",
   "execution_count": 16,
   "id": "5c1403f6",
   "metadata": {
    "scrolled": true
   },
   "outputs": [
    {
     "data": {
      "text/plain": [
       "RandomForestClassifier(criterion='entropy', n_estimators=80, random_state=42)"
      ]
     },
     "execution_count": 16,
     "metadata": {},
     "output_type": "execute_result"
    }
   ],
   "source": [
    "rf.fit(x_train, y_train)"
   ]
  },
  {
   "cell_type": "code",
   "execution_count": 17,
   "id": "e266fe40",
   "metadata": {},
   "outputs": [],
   "source": [
    "y_pred2 = rf.predict(x_test)"
   ]
  },
  {
   "cell_type": "code",
   "execution_count": 18,
   "id": "284d6886",
   "metadata": {},
   "outputs": [
    {
     "name": "stdout",
     "output_type": "stream",
     "text": [
      "Accuracy: 0.7759146341463414\n"
     ]
    }
   ],
   "source": [
    "print(\"Accuracy:\",accuracy_score(y_test, y_pred2))"
   ]
  },
  {
   "cell_type": "code",
   "execution_count": 19,
   "id": "494199d0",
   "metadata": {},
   "outputs": [
    {
     "data": {
      "text/plain": [
       "<sklearn.metrics._plot.confusion_matrix.ConfusionMatrixDisplay at 0x1f26051e920>"
      ]
     },
     "execution_count": 19,
     "metadata": {},
     "output_type": "execute_result"
    },
    {
     "data": {
      "image/png": "[encoded data removed]",
      "text/plain": [
       "<Figure size 432x288 with 2 Axes>"
      ]
     },
     "metadata": {
      "needs_background": "light"
     },
     "output_type": "display_data"
    }
   ],
   "source": [
    "rf_matrix = confusion_matrix(y_test, y_pred2) \n",
    "ConfusionMatrixDisplay(rf_matrix).plot()"
   ]
  },
  {
   "attachments": {},
   "cell_type": "markdown",
   "id": "60ecd15b",
   "metadata": {},
   "source": [
    "## MLP"
   ]
  },
  {
   "cell_type": "code",
   "execution_count": 20,
   "id": "6702758b",
   "metadata": {},
   "outputs": [],
   "source": [
    "mlp = MLPClassifier(hidden_layer_sizes=(20,),max_iter=200,random_state=42)"
   ]
  },
  {
   "cell_type": "code",
   "execution_count": 21,
   "id": "f69f1885",
   "metadata": {},
   "outputs": [
    {
     "data": {
      "text/plain": [
       "MLPClassifier(hidden_layer_sizes=(20,), random_state=42)"
      ]
     },
     "execution_count": 21,
     "metadata": {},
     "output_type": "execute_result"
    }
   ],
   "source": [
    "mlp.fit(x_train,y_train)"
   ]
  },
  {
   "cell_type": "code",
   "execution_count": 22,
   "id": "ebcbe0e3",
   "metadata": {},
   "outputs": [],
   "source": [
    "y_pred3 = mlp.predict(x_test)"
   ]
  },
  {
   "cell_type": "code",
   "execution_count": 23,
   "id": "42842857",
   "metadata": {},
   "outputs": [
    {
     "name": "stdout",
     "output_type": "stream",
     "text": [
      "Accuracy: 0.6554878048780488\n"
     ]
    }
   ],
   "source": [
    "print(\"Accuracy:\",accuracy_score(y_test, y_pred3))"
   ]
  },
  {
   "cell_type": "code",
   "execution_count": 24,
   "id": "5b595029",
   "metadata": {},
   "outputs": [
    {
     "data": {
      "text/plain": [
       "<sklearn.metrics._plot.confusion_matrix.ConfusionMatrixDisplay at 0x1f261592140>"
      ]
     },
     "execution_count": 24,
     "metadata": {},
     "output_type": "execute_result"
    },
    {
     "data": {
      "image/png": "[encoded data removed]",
      "text/plain": [
       "<Figure size 432x288 with 2 Axes>"
      ]
     },
     "metadata": {
      "needs_background": "light"
     },
     "output_type": "display_data"
    }
   ],
   "source": [
    "mlp_matrix = confusion_matrix(y_test, y_pred3) \n",
    "ConfusionMatrixDisplay(mlp_matrix).plot()"
   ]
  },
  {
   "attachments": {},
   "cell_type": "markdown",
   "id": "988504ba",
   "metadata": {},
   "source": [
    "## Gradient Boosting"
   ]
  },
  {
   "cell_type": "code",
   "execution_count": 25,
   "id": "bb800990",
   "metadata": {},
   "outputs": [],
   "source": [
    "gb=GradientBoostingClassifier(loss=\"exponential\",n_estimators=100,criterion=\"squared_error\",random_state=42)"
   ]
  },
  {
   "cell_type": "code",
   "execution_count": 26,
   "id": "bb9d1312",
   "metadata": {},
   "outputs": [
    {
     "data": {
      "text/plain": [
       "GradientBoostingClassifier(criterion='squared_error', loss='exponential',\n",
       "                           random_state=42)"
      ]
     },
     "execution_count": 26,
     "metadata": {},
     "output_type": "execute_result"
    }
   ],
   "source": [
    "gb.fit(x_train,y_train)"
   ]
  },
  {
   "cell_type": "code",
   "execution_count": 27,
   "id": "6c65e6e6",
   "metadata": {},
   "outputs": [],
   "source": [
    "y_pred4 = gb.predict(x_test)"
   ]
  },
  {
   "cell_type": "code",
   "execution_count": 28,
   "id": "6734b768",
   "metadata": {},
   "outputs": [
    {
     "name": "stdout",
     "output_type": "stream",
     "text": [
      "Accuracy: 0.7621951219512195\n"
     ]
    }
   ],
   "source": [
    "print(\"Accuracy:\",accuracy_score(y_test, y_pred4))"
   ]
  },
  {
   "cell_type": "code",
   "execution_count": 29,
   "id": "1a72beba",
   "metadata": {},
   "outputs": [
    {
     "data": {
      "text/plain": [
       "<sklearn.metrics._plot.confusion_matrix.ConfusionMatrixDisplay at 0x1f2616722c0>"
      ]
     },
     "execution_count": 29,
     "metadata": {},
     "output_type": "execute_result"
    },
    {
     "data": {
      "image/png": "[encoded data removed]",
      "text/plain": [
       "<Figure size 432x288 with 2 Axes>"
      ]
     },
     "metadata": {
      "needs_background": "light"
     },
     "output_type": "display_data"
    }
   ],
   "source": [
    "gb_matrix = confusion_matrix(y_test, y_pred4) \n",
    "ConfusionMatrixDisplay(gb_matrix).plot()"
   ]
  },
  {
   "attachments": {},
   "cell_type": "markdown",
   "id": "b7b43245",
   "metadata": {},
   "source": [
    "# Traning Without Outliers"
   ]
  },
  {
   "cell_type": "code",
   "execution_count": 30,
   "id": "a1d83009",
   "metadata": {},
   "outputs": [],
   "source": [
    "xqn_train,xqn_test,yqn_train,yqn_test=train_test_split(xqn,yqn,test_size=0.2,random_state=42)"
   ]
  },
  {
   "cell_type": "code",
   "execution_count": 31,
   "id": "01a9e5cd",
   "metadata": {},
   "outputs": [],
   "source": [
    "xqn_train,yqn_train=smote.fit_resample(xqn_train,yqn_train)"
   ]
  },
  {
   "cell_type": "code",
   "execution_count": 32,
   "id": "87808eed",
   "metadata": {},
   "outputs": [],
   "source": [
    "xqn_train=scaler.fit_transform(xqn_train)\n",
    "xqn_test=scaler.transform(xqn_test)"
   ]
  },
  {
   "attachments": {},
   "cell_type": "markdown",
   "id": "a61546c4",
   "metadata": {},
   "source": [
    "## Decision Tree"
   ]
  },
  {
   "cell_type": "code",
   "execution_count": 33,
   "id": "a27115d3",
   "metadata": {},
   "outputs": [],
   "source": [
    "clf = DecisionTreeClassifier(criterion=\"entropy\",max_depth=20)"
   ]
  },
  {
   "cell_type": "code",
   "execution_count": 34,
   "id": "fd9f673c",
   "metadata": {},
   "outputs": [],
   "source": [
    "clf = clf.fit(xqn_train,yqn_train)"
   ]
  },
  {
   "cell_type": "code",
   "execution_count": 35,
   "id": "b0d2ed2a",
   "metadata": {},
   "outputs": [],
   "source": [
    "y_predqn = clf.predict(xqn_test)"
   ]
  },
  {
   "cell_type": "code",
   "execution_count": 36,
   "id": "ae0400bb",
   "metadata": {},
   "outputs": [
    {
     "name": "stdout",
     "output_type": "stream",
     "text": [
      "Accuracy: 0.7199248120300752\n"
     ]
    }
   ],
   "source": [
    "print(\"Accuracy:\",accuracy_score(yqn_test, y_predqn))"
   ]
  },
  {
   "cell_type": "code",
   "execution_count": 37,
   "id": "9987e87b",
   "metadata": {},
   "outputs": [
    {
     "data": {
      "text/plain": [
       "<sklearn.metrics._plot.confusion_matrix.ConfusionMatrixDisplay at 0x1f26172bf40>"
      ]
     },
     "execution_count": 37,
     "metadata": {},
     "output_type": "execute_result"
    },
    {
     "data": {
      "image/png": "[encoded data removed]",
      "text/plain": [
       "<Figure size 432x288 with 2 Axes>"
      ]
     },
     "metadata": {
      "needs_background": "light"
     },
     "output_type": "display_data"
    }
   ],
   "source": [
    "cnfqn_matrix = confusion_matrix(yqn_test, y_predqn) \n",
    "ConfusionMatrixDisplay(cnf_matrix).plot()"
   ]
  },
  {
   "attachments": {},
   "cell_type": "markdown",
   "id": "50d54c10",
   "metadata": {},
   "source": [
    "## Random Forest"
   ]
  },
  {
   "cell_type": "code",
   "execution_count": 38,
   "id": "2161c5b0",
   "metadata": {},
   "outputs": [],
   "source": [
    "rf = RandomForestClassifier(n_estimators = 80,criterion=\"entropy\",random_state = 42)"
   ]
  },
  {
   "cell_type": "code",
   "execution_count": 39,
   "id": "9fd2da08",
   "metadata": {
    "scrolled": true
   },
   "outputs": [
    {
     "data": {
      "text/plain": [
       "RandomForestClassifier(criterion='entropy', n_estimators=80, random_state=42)"
      ]
     },
     "execution_count": 39,
     "metadata": {},
     "output_type": "execute_result"
    }
   ],
   "source": [
    "rf.fit(xqn_train, yqn_train)"
   ]
  },
  {
   "cell_type": "code",
   "execution_count": 40,
   "id": "77cf184b",
   "metadata": {},
   "outputs": [],
   "source": [
    "y_predqn1 = rf.predict(xqn_test)"
   ]
  },
  {
   "cell_type": "code",
   "execution_count": 41,
   "id": "931a20b4",
   "metadata": {},
   "outputs": [
    {
     "name": "stdout",
     "output_type": "stream",
     "text": [
      "Accuracy: 0.7913533834586466\n"
     ]
    }
   ],
   "source": [
    "print(\"Accuracy:\",accuracy_score(yqn_test, y_predqn1))"
   ]
  },
  {
   "cell_type": "code",
   "execution_count": 42,
   "id": "600977d1",
   "metadata": {},
   "outputs": [
    {
     "data": {
      "text/plain": [
       "<sklearn.metrics._plot.confusion_matrix.ConfusionMatrixDisplay at 0x1f2617fe050>"
      ]
     },
     "execution_count": 42,
     "metadata": {},
     "output_type": "execute_result"
    },
    {
     "data": {
      "image/png": "[encoded data removed]",
      "text/plain": [
       "<Figure size 432x288 with 2 Axes>"
      ]
     },
     "metadata": {
      "needs_background": "light"
     },
     "output_type": "display_data"
    }
   ],
   "source": [
    "rfqn_matrix = confusion_matrix(yqn_test, y_predqn1) \n",
    "ConfusionMatrixDisplay(rf_matrix).plot()"
   ]
  },
  {
   "attachments": {},
   "cell_type": "markdown",
   "id": "f735a248",
   "metadata": {},
   "source": [
    "## MLP"
   ]
  },
  {
   "cell_type": "code",
   "execution_count": 43,
   "id": "63c4eabd",
   "metadata": {},
   "outputs": [],
   "source": [
    "mlp = MLPClassifier(hidden_layer_sizes=(20,),max_iter=200,random_state=42)"
   ]
  },
  {
   "cell_type": "code",
   "execution_count": 44,
   "id": "a4dc6c65",
   "metadata": {},
   "outputs": [
    {
     "data": {
      "text/plain": [
       "MLPClassifier(hidden_layer_sizes=(20,), random_state=42)"
      ]
     },
     "execution_count": 44,
     "metadata": {},
     "output_type": "execute_result"
    }
   ],
   "source": [
    "mlp.fit(xqn_train,yqn_train)"
   ]
  },
  {
   "cell_type": "code",
   "execution_count": 45,
   "id": "ae9ba757",
   "metadata": {},
   "outputs": [],
   "source": [
    "y_predqn2 = mlp.predict(xqn_test)"
   ]
  },
  {
   "cell_type": "code",
   "execution_count": 46,
   "id": "5081e850",
   "metadata": {},
   "outputs": [
    {
     "name": "stdout",
     "output_type": "stream",
     "text": [
      "Accuracy: 0.6259398496240601\n"
     ]
    }
   ],
   "source": [
    "print(\"Accuracy:\",accuracy_score(yqn_test, y_predqn2))"
   ]
  },
  {
   "cell_type": "code",
   "execution_count": 47,
   "id": "a3383549",
   "metadata": {},
   "outputs": [
    {
     "data": {
      "text/plain": [
       "<sklearn.metrics._plot.confusion_matrix.ConfusionMatrixDisplay at 0x1f261861f30>"
      ]
     },
     "execution_count": 47,
     "metadata": {},
     "output_type": "execute_result"
    },
    {
     "data": {
      "image/png": "[encoded data removed]",
      "text/plain": [
       "<Figure size 432x288 with 2 Axes>"
      ]
     },
     "metadata": {
      "needs_background": "light"
     },
     "output_type": "display_data"
    }
   ],
   "source": [
    "mlp_matrix = confusion_matrix(yqn_test, y_predqn2) \n",
    "ConfusionMatrixDisplay(mlp_matrix).plot()"
   ]
  },
  {
   "attachments": {},
   "cell_type": "markdown",
   "id": "c1abd57d",
   "metadata": {},
   "source": [
    "## Gradient Boosting"
   ]
  },
  {
   "cell_type": "code",
   "execution_count": 48,
   "id": "33408a2a",
   "metadata": {},
   "outputs": [],
   "source": [
    "gb=GradientBoostingClassifier(loss=\"exponential\",n_estimators=100,criterion=\"squared_error\",random_state=42)"
   ]
  },
  {
   "cell_type": "code",
   "execution_count": 49,
   "id": "3fd24908",
   "metadata": {},
   "outputs": [
    {
     "data": {
      "text/plain": [
       "GradientBoostingClassifier(criterion='squared_error', loss='exponential',\n",
       "                           random_state=42)"
      ]
     },
     "execution_count": 49,
     "metadata": {},
     "output_type": "execute_result"
    }
   ],
   "source": [
    "gb.fit(xqn_train,yqn_train)"
   ]
  },
  {
   "cell_type": "code",
   "execution_count": 50,
   "id": "f44d6ee8",
   "metadata": {},
   "outputs": [],
   "source": [
    "y_predqn3 = gb.predict(xqn_test)"
   ]
  },
  {
   "cell_type": "code",
   "execution_count": 51,
   "id": "7aa0128c",
   "metadata": {},
   "outputs": [
    {
     "name": "stdout",
     "output_type": "stream",
     "text": [
      "Accuracy: 0.7180451127819549\n"
     ]
    }
   ],
   "source": [
    "print(\"Accuracy:\",accuracy_score(yqn_test, y_predqn3))"
   ]
  },
  {
   "cell_type": "code",
   "execution_count": 52,
   "id": "00d9eaeb",
   "metadata": {},
   "outputs": [
    {
     "data": {
      "text/plain": [
       "<sklearn.metrics._plot.confusion_matrix.ConfusionMatrixDisplay at 0x1f261911d80>"
      ]
     },
     "execution_count": 52,
     "metadata": {},
     "output_type": "execute_result"
    },
    {
     "data": {
      "image/png": "[encoded data removed]",
      "text/plain": [
       "<Figure size 432x288 with 2 Axes>"
      ]
     },
     "metadata": {
      "needs_background": "light"
     },
     "output_type": "display_data"
    }
   ],
   "source": [
    "gbqn_matrix = confusion_matrix(yqn_test, y_predqn3) \n",
    "ConfusionMatrixDisplay(gb_matrix).plot()"
   ]
  },
  {
   "attachments": {},
   "cell_type": "markdown",
   "id": "c5ad1adf",
   "metadata": {},
   "source": [
    "# Traning With Outliers Replaced"
   ]
  },
  {
   "cell_type": "code",
   "execution_count": 53,
   "id": "e6e2ebbf",
   "metadata": {},
   "outputs": [],
   "source": [
    "xqr_train,xqr_test,yqr_train,yqr_test=train_test_split(xqr,y,test_size=0.2,random_state=42)"
   ]
  },
  {
   "cell_type": "code",
   "execution_count": 54,
   "id": "9da039d0",
   "metadata": {},
   "outputs": [],
   "source": [
    "xqr_train,yqr_train=smote.fit_resample(xqr_train,yqr_train)"
   ]
  },
  {
   "cell_type": "code",
   "execution_count": 55,
   "id": "ad1a6da0",
   "metadata": {},
   "outputs": [],
   "source": [
    "xqr_train=scaler.fit_transform(xqr_train)\n",
    "xqr_test=scaler.transform(xqr_test)"
   ]
  },
  {
   "attachments": {},
   "cell_type": "markdown",
   "id": "c65944ce",
   "metadata": {},
   "source": [
    "## Decision Tree"
   ]
  },
  {
   "cell_type": "code",
   "execution_count": 56,
   "id": "10ead84f",
   "metadata": {},
   "outputs": [],
   "source": [
    "clf = DecisionTreeClassifier(criterion=\"entropy\",max_depth=20)"
   ]
  },
  {
   "cell_type": "code",
   "execution_count": 57,
   "id": "0053fffa",
   "metadata": {},
   "outputs": [],
   "source": [
    "clf = clf.fit(xqr_train,yqr_train)"
   ]
  },
  {
   "cell_type": "code",
   "execution_count": 58,
   "id": "4f137246",
   "metadata": {},
   "outputs": [],
   "source": [
    "y_predqr = clf.predict(xqr_test)"
   ]
  },
  {
   "cell_type": "code",
   "execution_count": 59,
   "id": "b46c3068",
   "metadata": {},
   "outputs": [
    {
     "name": "stdout",
     "output_type": "stream",
     "text": [
      "Accuracy: 0.7027439024390244\n"
     ]
    }
   ],
   "source": [
    "print(\"Accuracy:\",accuracy_score(yqr_test, y_predqr))"
   ]
  },
  {
   "cell_type": "code",
   "execution_count": 60,
   "id": "df59db37",
   "metadata": {},
   "outputs": [
    {
     "data": {
      "text/plain": [
       "<sklearn.metrics._plot.confusion_matrix.ConfusionMatrixDisplay at 0x1f2619d3a30>"
      ]
     },
     "execution_count": 60,
     "metadata": {},
     "output_type": "execute_result"
    },
    {
     "data": {
      "image/png": "[encoded data removed]",
      "text/plain": [
       "<Figure size 432x288 with 2 Axes>"
      ]
     },
     "metadata": {
      "needs_background": "light"
     },
     "output_type": "display_data"
    }
   ],
   "source": [
    "cnfqr_matrix = confusion_matrix(yqr_test, y_predqr) \n",
    "ConfusionMatrixDisplay(cnfqr_matrix).plot()"
   ]
  },
  {
   "attachments": {},
   "cell_type": "markdown",
   "id": "f845f5b0",
   "metadata": {},
   "source": [
    "## Random Forest"
   ]
  },
  {
   "cell_type": "code",
   "execution_count": 61,
   "id": "88b1bd16",
   "metadata": {},
   "outputs": [],
   "source": [
    "rf = RandomForestClassifier(n_estimators = 80,criterion=\"entropy\",random_state = 42)"
   ]
  },
  {
   "cell_type": "code",
   "execution_count": 62,
   "id": "efc03662",
   "metadata": {
    "scrolled": true
   },
   "outputs": [
    {
     "data": {
      "text/plain": [
       "RandomForestClassifier(criterion='entropy', n_estimators=80, random_state=42)"
      ]
     },
     "execution_count": 62,
     "metadata": {},
     "output_type": "execute_result"
    }
   ],
   "source": [
    "rf.fit(xqr_train, yqr_train)"
   ]
  },
  {
   "cell_type": "code",
   "execution_count": 63,
   "id": "a75d0695",
   "metadata": {},
   "outputs": [],
   "source": [
    "y_predqr2 = rf.predict(xqr_test)"
   ]
  },
  {
   "cell_type": "code",
   "execution_count": 64,
   "id": "8161c618",
   "metadata": {},
   "outputs": [
    {
     "name": "stdout",
     "output_type": "stream",
     "text": [
      "Accuracy: 0.7286585365853658\n"
     ]
    }
   ],
   "source": [
    "print(\"Accuracy:\",accuracy_score(yqr_test, y_predqr2))"
   ]
  },
  {
   "cell_type": "code",
   "execution_count": 65,
   "id": "d70b28e4",
   "metadata": {},
   "outputs": [
    {
     "data": {
      "text/plain": [
       "<sklearn.metrics._plot.confusion_matrix.ConfusionMatrixDisplay at 0x1f261a42a40>"
      ]
     },
     "execution_count": 65,
     "metadata": {},
     "output_type": "execute_result"
    },
    {
     "data": {
      "image/png": "[encoded data removed]",
      "text/plain": [
       "<Figure size 432x288 with 2 Axes>"
      ]
     },
     "metadata": {
      "needs_background": "light"
     },
     "output_type": "display_data"
    }
   ],
   "source": [
    "rfqr_matrix = confusion_matrix(yqr_test, y_predqr2) \n",
    "ConfusionMatrixDisplay(rfqr_matrix).plot()"
   ]
  },
  {
   "attachments": {},
   "cell_type": "markdown",
   "id": "b4610527",
   "metadata": {},
   "source": [
    "## MLP"
   ]
  },
  {
   "cell_type": "code",
   "execution_count": 66,
   "id": "1147dc42",
   "metadata": {},
   "outputs": [],
   "source": [
    "mlp = MLPClassifier(hidden_layer_sizes=(20,),max_iter=200,random_state=42)"
   ]
  },
  {
   "cell_type": "code",
   "execution_count": 67,
   "id": "eea164f0",
   "metadata": {},
   "outputs": [
    {
     "data": {
      "text/plain": [
       "MLPClassifier(hidden_layer_sizes=(20,), random_state=42)"
      ]
     },
     "execution_count": 67,
     "metadata": {},
     "output_type": "execute_result"
    }
   ],
   "source": [
    "mlp.fit(xqr_train,yqr_train)"
   ]
  },
  {
   "cell_type": "code",
   "execution_count": 68,
   "id": "3ff8a29a",
   "metadata": {},
   "outputs": [],
   "source": [
    "y_predqr3 = mlp.predict(xqr_test)"
   ]
  },
  {
   "cell_type": "code",
   "execution_count": 69,
   "id": "11d7b417",
   "metadata": {},
   "outputs": [
    {
     "name": "stdout",
     "output_type": "stream",
     "text": [
      "Accuracy: 0.6036585365853658\n"
     ]
    }
   ],
   "source": [
    "print(\"Accuracy:\",accuracy_score(yqr_test, y_predqr3))"
   ]
  },
  {
   "cell_type": "code",
   "execution_count": 70,
   "id": "6f2f4ba0",
   "metadata": {},
   "outputs": [
    {
     "data": {
      "text/plain": [
       "<sklearn.metrics._plot.confusion_matrix.ConfusionMatrixDisplay at 0x1f261afa8c0>"
      ]
     },
     "execution_count": 70,
     "metadata": {},
     "output_type": "execute_result"
    },
    {
     "data": {
      "image/png": "[encoded data removed]",
      "text/plain": [
       "<Figure size 432x288 with 2 Axes>"
      ]
     },
     "metadata": {
      "needs_background": "light"
     },
     "output_type": "display_data"
    }
   ],
   "source": [
    "mlpqr_matrix = confusion_matrix(yqr_test, y_predqr3) \n",
    "ConfusionMatrixDisplay(mlpqr_matrix).plot()"
   ]
  },
  {
   "attachments": {},
   "cell_type": "markdown",
   "id": "72941c30",
   "metadata": {},
   "source": [
    "## Gradient Boosting"
   ]
  },
  {
   "cell_type": "code",
   "execution_count": 71,
   "id": "d465714f",
   "metadata": {},
   "outputs": [],
   "source": [
    "gb=GradientBoostingClassifier(loss=\"exponential\",n_estimators=100,criterion=\"squared_error\",random_state=42)"
   ]
  },
  {
   "cell_type": "code",
   "execution_count": 72,
   "id": "fc9bd159",
   "metadata": {},
   "outputs": [
    {
     "data": {
      "text/plain": [
       "GradientBoostingClassifier(criterion='squared_error', loss='exponential',\n",
       "                           random_state=42)"
      ]
     },
     "execution_count": 72,
     "metadata": {},
     "output_type": "execute_result"
    }
   ],
   "source": [
    "gb.fit(xqr_train,yqr_train)"
   ]
  },
  {
   "cell_type": "code",
   "execution_count": 73,
   "id": "479a7a45",
   "metadata": {},
   "outputs": [],
   "source": [
    "y_predqr4 = gb.predict(xqr_test)"
   ]
  },
  {
   "cell_type": "code",
   "execution_count": 74,
   "id": "73a7df71",
   "metadata": {},
   "outputs": [
    {
     "name": "stdout",
     "output_type": "stream",
     "text": [
      "Accuracy: 0.7301829268292683\n"
     ]
    }
   ],
   "source": [
    "print(\"Accuracy:\",accuracy_score(yqr_test, y_predqr4))"
   ]
  },
  {
   "cell_type": "code",
   "execution_count": 75,
   "id": "57244e81",
   "metadata": {},
   "outputs": [
    {
     "data": {
      "text/plain": [
       "<sklearn.metrics._plot.confusion_matrix.ConfusionMatrixDisplay at 0x1f262bb3520>"
      ]
     },
     "execution_count": 75,
     "metadata": {},
     "output_type": "execute_result"
    },
    {
     "data": {
      "image/png": "[encoded data removed]",
      "text/plain": [
       "<Figure size 432x288 with 2 Axes>"
      ]
     },
     "metadata": {
      "needs_background": "light"
     },
     "output_type": "display_data"
    }
   ],
   "source": [
    "gbqr_matrix = confusion_matrix(yqr_test, y_predqr4) \n",
    "ConfusionMatrixDisplay(gbqr_matrix).plot()"
   ]
  }
 ],
 "metadata": {
  "kernelspec": {
   "display_name": "Python 3 (ipykernel)",
   "language": "python",
   "name": "python3"
  },
  "language_info": {
   "codemirror_mode": {
    "name": "ipython",
    "version": 3
   },
   "file_extension": ".py",
   "mimetype": "text/x-python",
   "name": "python",
   "nbconvert_exporter": "python",
   "pygments_lexer": "ipython3",
   "version": "3.10.2"
  }
 },
 "nbformat": 4,
 "nbformat_minor": 5
}
